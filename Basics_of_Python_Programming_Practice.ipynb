{
  "nbformat": 4,
  "nbformat_minor": 0,
  "metadata": {
    "kernelspec": {
      "display_name": "Python 3",
      "language": "python",
      "name": "python3"
    },
    "language_info": {
      "codemirror_mode": {
        "name": "ipython",
        "version": 3
      },
      "file_extension": ".py",
      "mimetype": "text/x-python",
      "name": "python",
      "nbconvert_exporter": "python",
      "pygments_lexer": "ipython3",
      "version": "3.7.1"
    },
    "colab": {
      "name": "Basics of Python Programming- Practice.ipynb",
      "provenance": [],
      "collapsed_sections": []
    }
  },
  "cells": [
    {
      "cell_type": "code",
      "metadata": {
        "id": "UaQhI2MUdus9",
        "colab": {
          "base_uri": "https://localhost:8080/"
        },
        "outputId": "b0d93d03-695c-4923-e6b1-f4655ca0ea40"
      },
      "source": [
        "print(\"Arithmetic Operator\")  \n",
        "a=10\n",
        "b=5\n",
        "print(\"Addition:\",a+b)\n",
        "print(\"Subtraction:\",a-b)\n",
        "print(\"Multiplication:\",a*b)\n",
        "print(\"Division:\",a/b)\n",
        "print(\"Floor Division:\",a//b)\n",
        "print(\"Modulus:\",a%b)\n",
        "print(\"Exponent\",a**b)\n"
      ],
      "execution_count": 1,
      "outputs": [
        {
          "output_type": "stream",
          "name": "stdout",
          "text": [
            "Arithmetic Operator\n",
            "Addition: 15\n",
            "Subtraction: 5\n",
            "Multiplication: 50\n",
            "Division: 2.0\n",
            "Floor Division: 2\n",
            "Modulus: 0\n",
            "Exponent 100000\n"
          ]
        }
      ]
    },
    {
      "cell_type": "code",
      "metadata": {
        "id": "I_OXwY-kdutI",
        "outputId": "7b1bdc07-7c0f-47cd-e70a-b5c6ea699ebc",
        "colab": {
          "base_uri": "https://localhost:8080/"
        }
      },
      "source": [
        "print(\"Relational Operator\")\n",
        "a=10\n",
        "b=5\n",
        "print(a>b)\n",
        "print(a<b) \n",
        "print(a==b)\n",
        "print(a!=b) \n",
        "print(a>=b)  \n",
        "print(a<=b)\n"
      ],
      "execution_count": 2,
      "outputs": [
        {
          "output_type": "stream",
          "name": "stdout",
          "text": [
            "Relational Operator\n",
            "True\n",
            "False\n",
            "False\n",
            "True\n",
            "True\n",
            "False\n"
          ]
        }
      ]
    },
    {
      "cell_type": "code",
      "metadata": {
        "id": "siz8EhT1dutP",
        "outputId": "803746de-bae1-43b8-baa1-8b709eece95d",
        "colab": {
          "base_uri": "https://localhost:8080/"
        }
      },
      "source": [
        "print(\"Logical Operator\")\n",
        "print(10<5 and 10<20)\n",
        "print(10<5 or 10<20)\n",
        "print(not(10<20))\n"
      ],
      "execution_count": 3,
      "outputs": [
        {
          "output_type": "stream",
          "name": "stdout",
          "text": [
            "Logical Operator\n",
            "False\n",
            "True\n",
            "False\n"
          ]
        }
      ]
    },
    {
      "cell_type": "code",
      "metadata": {
        "id": "ogeb6F3KdutY",
        "outputId": "46b2a708-6b2e-4b9f-9e2c-bd6ac520b0d3",
        "colab": {
          "base_uri": "https://localhost:8080/"
        }
      },
      "source": [
        "print(\"Identity Operator\")\n",
        "a1=5\n",
        "b1=5\n",
        "a2=\"Hello\"\n",
        "b2=\"Hello\"\n",
        "a3=[1,2,3]\n",
        "b3=[1,2,3]\n",
        "print(a1 is not b1)\n",
        "print(a2 is b2)\n",
        "print(a2 is b3)\n"
      ],
      "execution_count": 4,
      "outputs": [
        {
          "output_type": "stream",
          "name": "stdout",
          "text": [
            "Identity Operator\n",
            "False\n",
            "True\n",
            "False\n"
          ]
        }
      ]
    },
    {
      "cell_type": "code",
      "metadata": {
        "id": "nM9oUV0Edutd",
        "outputId": "5a0f65c4-c268-4d6d-84dc-56b0a2849d44",
        "colab": {
          "base_uri": "https://localhost:8080/"
        }
      },
      "source": [
        "a=\"Hello world\"\n",
        "b={1,\"a\",\"b\",2}\n",
        "print(\"H\" in a)\n",
        "print(\"hello\" in a )\n",
        "print(1 in b)\n",
        "print(\"b\" in b) \n",
        "print(\"c\" not in b)\n"
      ],
      "execution_count": 5,
      "outputs": [
        {
          "output_type": "stream",
          "name": "stdout",
          "text": [
            "True\n",
            "False\n",
            "True\n",
            "True\n",
            "True\n"
          ]
        }
      ]
    },
    {
      "cell_type": "code",
      "metadata": {
        "id": "YfSaLdaFduti"
      },
      "source": [
        "\n",
        "\n"
      ],
      "execution_count": null,
      "outputs": []
    },
    {
      "cell_type": "code",
      "metadata": {
        "id": "0mvqgfbUdutn"
      },
      "source": [
        ""
      ],
      "execution_count": null,
      "outputs": []
    },
    {
      "cell_type": "code",
      "metadata": {
        "id": "ZLsmgwjadutw"
      },
      "source": [
        ""
      ],
      "execution_count": null,
      "outputs": []
    },
    {
      "cell_type": "code",
      "metadata": {
        "id": "JFcCPHMDdut3"
      },
      "source": [
        ""
      ],
      "execution_count": null,
      "outputs": []
    },
    {
      "cell_type": "code",
      "metadata": {
        "id": "r_xtQy5Hdut8"
      },
      "source": [
        ""
      ],
      "execution_count": null,
      "outputs": []
    },
    {
      "cell_type": "code",
      "metadata": {
        "id": "Gm4nCYYNduuB"
      },
      "source": [
        ""
      ],
      "execution_count": null,
      "outputs": []
    },
    {
      "cell_type": "code",
      "metadata": {
        "id": "JxKDa6JdduuJ",
        "outputId": "8fa516e2-8cbd-4038-a241-1d876dd1e64b",
        "colab": {
          "base_uri": "https://localhost:8080/"
        }
      },
      "source": [
        "print(\"If statement\")\n",
        "i=int(input(\"Enter the number:\"))\n",
        "if (i<=10):\n",
        "    print(\"condition is true\")\n"
      ],
      "execution_count": 6,
      "outputs": [
        {
          "output_type": "stream",
          "name": "stdout",
          "text": [
            "If statement\n",
            "Enter the number:4\n",
            "condition is true\n"
          ]
        }
      ]
    },
    {
      "cell_type": "code",
      "metadata": {
        "id": "pEmn9wNFduuO",
        "outputId": "dc655e9f-0cfe-4537-d808-ab47474baffd",
        "colab": {
          "base_uri": "https://localhost:8080/"
        }
      },
      "source": [
        "print(\"If...else statement\")\n",
        "num = int(input(\"Enter the number:\"))\n",
        "if (num % 2)== 0:\n",
        "\tprint (\"Given number is Even\")\n",
        "else:\n",
        "\tprint(\"Given number is Odd\")\n"
      ],
      "execution_count": 7,
      "outputs": [
        {
          "output_type": "stream",
          "name": "stdout",
          "text": [
            "If...else statement\n",
            "Enter the number:4\n",
            "Given number is Even\n"
          ]
        }
      ]
    },
    {
      "cell_type": "code",
      "metadata": {
        "id": "E69T9NReduuT",
        "outputId": "39362336-666e-42d6-e822-5f11513fe4a9",
        "colab": {
          "base_uri": "https://localhost:8080/"
        }
      },
      "source": [
        "print(\"Elif statement\")\n",
        "a = int(input(\"Enter 1st number:\"))  \n",
        "b= int(input(\"Enter 2nd number:\"))\n",
        "c= int(input(\"Enter 3rd number:\"))\n",
        "if (a > b) and (a > c):\n",
        "    print(\"a is greater\")\n",
        "elif (b > a) and (b > c):\n",
        "    print(\"b is greater\")\n",
        "else:\n",
        "    print(\"c is greater\")\n"
      ],
      "execution_count": 8,
      "outputs": [
        {
          "output_type": "stream",
          "name": "stdout",
          "text": [
            "Elif statement\n",
            "Enter 1st number:14\n",
            "Enter 2nd number:54\n",
            "Enter 3rd number:87\n",
            "c is greater\n"
          ]
        }
      ]
    },
    {
      "cell_type": "code",
      "metadata": {
        "id": "dOkWIXdsduuX",
        "outputId": "c631ce18-fe8d-4223-9619-a8fb08bb55f8",
        "colab": {
          "base_uri": "https://localhost:8080/"
        }
      },
      "source": [
        "print(\"Nested if...else statement\")\n",
        "n = int(input(\"Enter a number:\")) \n",
        "if (n<=15):\n",
        "    if (n == 10):\n",
        "        print(\"play cricket\")  \n",
        "    else:\n",
        "        print(\"play kabadi\")\n",
        "else:\n",
        "    print(\"Don’t play game\")\n"
      ],
      "execution_count": 9,
      "outputs": [
        {
          "output_type": "stream",
          "name": "stdout",
          "text": [
            "Nested if...else statement\n",
            "Enter a number:4\n",
            "play kabadi\n"
          ]
        }
      ]
    },
    {
      "cell_type": "code",
      "metadata": {
        "id": "1KpNzhkRduuc"
      },
      "source": [
        "#CONTROL STATEMENTS\n"
      ],
      "execution_count": 10,
      "outputs": []
    },
    {
      "cell_type": "code",
      "metadata": {
        "id": "nKA6-jm8duui",
        "outputId": "ca79571b-99f8-4f59-93ac-ad133bb641d3",
        "colab": {
          "base_uri": "https://localhost:8080/"
        }
      },
      "source": [
        "print(\"While loop- To find sum of number\")\n",
        "num = int(input(\"Enter a number: \"))\n",
        "sum = 0\n",
        "while(num > 0):  \n",
        "    sum = sum+num\n",
        "    num = num-1\n",
        "    print(\"The sum is\",sum)\n"
      ],
      "execution_count": 11,
      "outputs": [
        {
          "output_type": "stream",
          "name": "stdout",
          "text": [
            "While loop- To find sum of number\n",
            "Enter a number: 5\n",
            "The sum is 5\n",
            "The sum is 9\n",
            "The sum is 12\n",
            "The sum is 14\n",
            "The sum is 15\n"
          ]
        }
      ]
    },
    {
      "cell_type": "code",
      "metadata": {
        "id": "5pLzHMjiduun",
        "outputId": "a86a37a6-61f1-472e-f5fb-8a3ed3bdc4cd",
        "colab": {
          "base_uri": "https://localhost:8080/"
        }
      },
      "source": [
        "print(\"For loop- Addition of number using for loop \")\n",
        "\n",
        "numbers = [6, 5, 3, 8, 4, 2, 5, 4]\n",
        "sum1 = 0\n",
        "for val in numbers:  sum1 = sum1+val\n",
        "print(\"The sum is\", sum1)\n"
      ],
      "execution_count": 12,
      "outputs": [
        {
          "output_type": "stream",
          "name": "stdout",
          "text": [
            "For loop- Addition of number using for loop \n",
            "The sum is 37\n"
          ]
        }
      ]
    },
    {
      "cell_type": "code",
      "metadata": {
        "id": "haroXQgqduuv",
        "outputId": "89fd46da-11bd-4b24-b04d-6e89339d2220"
      },
      "source": [
        "print(\"For loop with if-else \")\n",
        "genre = ['pop', 'rock', 'jazz']\n",
        "for i in range(len(genre)):\n",
        "    print(\"I like\", genre[i])\n"
      ],
      "execution_count": null,
      "outputs": [
        {
          "output_type": "stream",
          "text": [
            "For loop with if-else \n",
            "I like pop\n",
            "I like rock\n",
            "I like jazz\n"
          ],
          "name": "stdout"
        }
      ]
    },
    {
      "cell_type": "code",
      "metadata": {
        "id": "1Oq_AqaKduuz",
        "outputId": "7c39fe21-b9bf-4df4-bf87-c186cf8ff0df"
      },
      "source": [
        "genre = ['pop', 'rock', 'jazz']\n",
        "for i in range(len(genre)):\n",
        "    print(\"I like\", genre[i])\n",
        "else:\n",
        "    print(\"No items left.\")\n"
      ],
      "execution_count": null,
      "outputs": [
        {
          "output_type": "stream",
          "text": [
            "I like pop\n",
            "I like rock\n",
            "I like jazz\n",
            "No items left.\n"
          ],
          "name": "stdout"
        }
      ]
    },
    {
      "cell_type": "code",
      "metadata": {
        "id": "_67_Gyelduu5"
      },
      "source": [
        ""
      ],
      "execution_count": null,
      "outputs": []
    }
  ]
}