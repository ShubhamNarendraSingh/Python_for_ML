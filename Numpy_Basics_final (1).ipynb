{
  "nbformat": 4,
  "nbformat_minor": 0,
  "metadata": {
    "kernelspec": {
      "display_name": "Python 3",
      "language": "python",
      "name": "python3"
    },
    "language_info": {
      "codemirror_mode": {
        "name": "ipython",
        "version": 3
      },
      "file_extension": ".py",
      "mimetype": "text/x-python",
      "name": "python",
      "nbconvert_exporter": "python",
      "pygments_lexer": "ipython3",
      "version": "3.6.6"
    },
    "colab": {
      "name": "Numpy_Basics_final.ipynb",
      "provenance": [],
      "toc_visible": true
    }
  },
  "cells": [
    {
      "cell_type": "markdown",
      "metadata": {
        "id": "x8sTYlRmYwHY"
      },
      "source": [
        "# 1. The Numpy Package "
      ]
    },
    {
      "cell_type": "markdown",
      "metadata": {
        "id": "ieFH4c0jYwHb"
      },
      "source": [
        "## 1.1 Numpy Array Basics"
      ]
    },
    {
      "cell_type": "code",
      "metadata": {
        "id": "4DDJhWOWYwHc"
      },
      "source": [
        "import numpy as np #import numpy"
      ],
      "execution_count": null,
      "outputs": []
    },
    {
      "cell_type": "code",
      "metadata": {
        "id": "J7OPmsjQYwHk"
      },
      "source": [
        "l = list(range(1,11)) #create a list\n",
        "l"
      ],
      "execution_count": null,
      "outputs": []
    },
    {
      "cell_type": "code",
      "metadata": {
        "id": "2DYX5aC2YwHs"
      },
      "source": [
        "my_array = np.array(l) #transform list into a numpy array (ndarray)\n",
        "my_array"
      ],
      "execution_count": null,
      "outputs": []
    },
    {
      "cell_type": "code",
      "metadata": {
        "id": "3eNLSA_NYwHy"
      },
      "source": [
        "type(my_array) "
      ],
      "execution_count": null,
      "outputs": []
    },
    {
      "cell_type": "code",
      "metadata": {
        "id": "PbSlImPXYwH3"
      },
      "source": [
        "for i in my_array: # same as lists, ndarrays store multiple elements (is iterable) \n",
        "    print(i)"
      ],
      "execution_count": null,
      "outputs": []
    },
    {
      "cell_type": "code",
      "metadata": {
        "id": "WWIvO1XRYwH-"
      },
      "source": [
        "l = [1, 2.5, \"Dog\", True] #lists can store different datatypes"
      ],
      "execution_count": null,
      "outputs": []
    },
    {
      "cell_type": "code",
      "metadata": {
        "id": "O6DQrk9tYwID"
      },
      "source": [
        "for i in l:\n",
        "    print(type(i))"
      ],
      "execution_count": null,
      "outputs": []
    },
    {
      "cell_type": "code",
      "metadata": {
        "id": "WON4r0HbYwIK"
      },
      "source": [
        "a = np.array(l) #in ndarrays, all elements must have same datatype; numpy transforms automatically\n",
        "a"
      ],
      "execution_count": null,
      "outputs": []
    },
    {
      "cell_type": "code",
      "metadata": {
        "id": "gd0kE3ZbYwIP"
      },
      "source": [
        "for i in a:\n",
        "    print(type(i))"
      ],
      "execution_count": null,
      "outputs": []
    },
    {
      "cell_type": "code",
      "metadata": {
        "id": "HMEZIPGtYwIV"
      },
      "source": [
        "b = np.array([1., \"2\", 3])\n",
        "b"
      ],
      "execution_count": null,
      "outputs": []
    },
    {
      "cell_type": "code",
      "metadata": {
        "id": "hv9P1Z0BYwIb"
      },
      "source": [
        "type(b)"
      ],
      "execution_count": null,
      "outputs": []
    },
    {
      "cell_type": "code",
      "metadata": {
        "id": "kOzM7O0UYwIg"
      },
      "source": [
        "b.dtype #can check single datatype of all elements with attribute .dtype"
      ],
      "execution_count": null,
      "outputs": []
    },
    {
      "cell_type": "markdown",
      "metadata": {
        "id": "jlYeNylLYwIl"
      },
      "source": [
        "## 1.2 Numpy Array (element-wise operations / vectorization)"
      ]
    },
    {
      "cell_type": "code",
      "metadata": {
        "id": "AwWDe2M8YwIm"
      },
      "source": [
        "import numpy as np"
      ],
      "execution_count": null,
      "outputs": []
    },
    {
      "cell_type": "code",
      "metadata": {
        "id": "OlbqQPRVYwIw"
      },
      "source": [
        "np.arange(1,11) #create new ndarray from 1(incl.) to 11(excl.)"
      ],
      "execution_count": null,
      "outputs": []
    },
    {
      "cell_type": "code",
      "metadata": {
        "id": "5pMSJilqYwI1"
      },
      "source": [
        "np.arange(1,11,2) #only every second number is created "
      ],
      "execution_count": null,
      "outputs": []
    },
    {
      "cell_type": "code",
      "metadata": {
        "id": "4WFXHI-9YwI5"
      },
      "source": [
        "l = [1,2,3,4]\n",
        "l"
      ],
      "execution_count": null,
      "outputs": []
    },
    {
      "cell_type": "code",
      "metadata": {
        "id": "6hZoZ0mHYwI_"
      },
      "source": [
        "l*2 #this is not an element-wise operation"
      ],
      "execution_count": null,
      "outputs": []
    },
    {
      "cell_type": "code",
      "metadata": {
        "id": "gQ2EGB68YwJD"
      },
      "source": [
        "l1 = [] #element-wise operations with lists require a bunch of code\n",
        "for i in l:\n",
        "    l1.append(i*2)\n",
        "l1"
      ],
      "execution_count": null,
      "outputs": []
    },
    {
      "cell_type": "code",
      "metadata": {
        "id": "5GC7r586YwJN"
      },
      "source": [
        "a = np.arange(1,5) #create ndarray from 1 to 4 (both including)\n",
        "a"
      ],
      "execution_count": null,
      "outputs": []
    },
    {
      "cell_type": "code",
      "metadata": {
        "id": "rqjzpWTFYwJU"
      },
      "source": [
        "a * 2 #element-wise (vectorized) operations are pretty simple with ndarrays"
      ],
      "execution_count": null,
      "outputs": []
    },
    {
      "cell_type": "code",
      "metadata": {
        "id": "OhAYX_eXYwJY"
      },
      "source": [
        "a + 2 #addition works as well"
      ],
      "execution_count": null,
      "outputs": []
    },
    {
      "cell_type": "code",
      "metadata": {
        "id": "FRR6pL8gYwJe"
      },
      "source": [
        "a**2 #all elements squared"
      ],
      "execution_count": null,
      "outputs": []
    },
    {
      "cell_type": "code",
      "metadata": {
        "id": "1yDwICwRYwJj"
      },
      "source": [
        "2**a #can serve as exponent as well"
      ],
      "execution_count": null,
      "outputs": []
    },
    {
      "cell_type": "code",
      "metadata": {
        "id": "NDX-BpOiYwJn"
      },
      "source": [
        "np.sqrt(a) #square root of all elements"
      ],
      "execution_count": null,
      "outputs": []
    },
    {
      "cell_type": "code",
      "metadata": {
        "id": "SRgINJGsYwJt"
      },
      "source": [
        "np.exp(a) #exponentiation with e"
      ],
      "execution_count": null,
      "outputs": []
    },
    {
      "cell_type": "code",
      "metadata": {
        "id": "BITiGcfmYwJz"
      },
      "source": [
        "np.log(a) #natural logarithm"
      ],
      "execution_count": null,
      "outputs": []
    },
    {
      "cell_type": "code",
      "metadata": {
        "id": "gRV38w6MYwJ4"
      },
      "source": [
        "a.sum() #sum of all elements (ndarray method)"
      ],
      "execution_count": null,
      "outputs": []
    },
    {
      "cell_type": "code",
      "metadata": {
        "id": "uxJykkmqYwJ8"
      },
      "source": [
        "np.sum(a) #sum of all elements"
      ],
      "execution_count": null,
      "outputs": []
    },
    {
      "cell_type": "code",
      "metadata": {
        "id": "crnZAIYmYwKB"
      },
      "source": [
        "sum(a)"
      ],
      "execution_count": null,
      "outputs": []
    },
    {
      "cell_type": "code",
      "metadata": {
        "id": "E-SKZIIaYwKH"
      },
      "source": [
        "a.size #number of elements in ndarray (ndarray attribute)"
      ],
      "execution_count": null,
      "outputs": []
    },
    {
      "cell_type": "code",
      "metadata": {
        "id": "1KxIozqwYwKL"
      },
      "source": [
        "len(a)"
      ],
      "execution_count": null,
      "outputs": []
    },
    {
      "cell_type": "code",
      "metadata": {
        "id": "FbZsQFGJYwKR"
      },
      "source": [
        "b = np.array([-2, -1, -0.5, 0, 1, 2, 3.5])\n",
        "b"
      ],
      "execution_count": null,
      "outputs": []
    },
    {
      "cell_type": "code",
      "metadata": {
        "id": "6CJZ81mPYwKW"
      },
      "source": [
        "np.abs(b) #absolute values of all elements"
      ],
      "execution_count": null,
      "outputs": []
    },
    {
      "cell_type": "code",
      "metadata": {
        "id": "N5EgG_iJYwKh"
      },
      "source": [
        "c = np.array([-1.7, -1.5, -0.2, 0.2, 1.5, 1.7, 2.0])\n",
        "c"
      ],
      "execution_count": null,
      "outputs": []
    },
    {
      "cell_type": "code",
      "metadata": {
        "id": "j2sq0Ye-YwKl"
      },
      "source": [
        "np.ceil(c) #element-wise rounding up"
      ],
      "execution_count": null,
      "outputs": []
    },
    {
      "cell_type": "code",
      "metadata": {
        "id": "m_JVb9i9YwKr"
      },
      "source": [
        "np.floor(c) #element-wise rounding down"
      ],
      "execution_count": null,
      "outputs": []
    },
    {
      "cell_type": "code",
      "metadata": {
        "id": "nNVAfq0zYwKx"
      },
      "source": [
        "np.around([-3.23, -0.76, 1.44, 2.65, ], decimals = 0) #evenly round all elements to the given number of decimals."
      ],
      "execution_count": null,
      "outputs": []
    },
    {
      "cell_type": "markdown",
      "metadata": {
        "id": "M1JgIRn8YwK2"
      },
      "source": [
        "## 1.3 Numpy Array (Indexing and Slicing)"
      ]
    },
    {
      "cell_type": "code",
      "metadata": {
        "id": "O-cVNHFLYwK2"
      },
      "source": [
        "import numpy as np"
      ],
      "execution_count": null,
      "outputs": []
    },
    {
      "cell_type": "code",
      "metadata": {
        "id": "jGLo3egsYwK6"
      },
      "source": [
        "a = np.arange(1,11) #array from 1 to 10 (incl.)\n",
        "a"
      ],
      "execution_count": null,
      "outputs": []
    },
    {
      "cell_type": "code",
      "metadata": {
        "id": "5R7o7B05YwLF"
      },
      "source": [
        "a[0] #first element at index position 0 (zero-based indexing!)"
      ],
      "execution_count": null,
      "outputs": []
    },
    {
      "cell_type": "code",
      "metadata": {
        "id": "YdKaEF1EYwLL"
      },
      "source": [
        "a[1] #second element (index position 1)"
      ],
      "execution_count": null,
      "outputs": []
    },
    {
      "cell_type": "code",
      "metadata": {
        "id": "v0gq3kzzYwLP"
      },
      "source": [
        "a[-1] #last element"
      ],
      "execution_count": null,
      "outputs": []
    },
    {
      "cell_type": "code",
      "metadata": {
        "id": "l5V7KGHjYwLY"
      },
      "source": [
        "list(enumerate(a)) #list of index,value tuples"
      ],
      "execution_count": null,
      "outputs": []
    },
    {
      "cell_type": "code",
      "metadata": {
        "id": "XZUjOmIaYwLf"
      },
      "source": [
        "a[2:6] #slicing from index position 2 (incl.) till position 6 (excl.) "
      ],
      "execution_count": null,
      "outputs": []
    },
    {
      "cell_type": "code",
      "metadata": {
        "id": "MUT0ELr4YwLk"
      },
      "source": [
        "a[:] #all elements"
      ],
      "execution_count": null,
      "outputs": []
    },
    {
      "cell_type": "code",
      "metadata": {
        "id": "jYHEVX5TYwLq"
      },
      "source": [
        "a[:5] #all elements until index position 5 (excl.)"
      ],
      "execution_count": null,
      "outputs": []
    },
    {
      "cell_type": "code",
      "metadata": {
        "id": "0Qnl2oiHYwLv"
      },
      "source": [
        "a[6:] #all elements from index position 6 (incl.) till the last element (incl.)"
      ],
      "execution_count": null,
      "outputs": []
    },
    {
      "cell_type": "code",
      "metadata": {
        "id": "ZtcKtJiiYwLy"
      },
      "source": [
        "a[::2] #every second element, starting from first element"
      ],
      "execution_count": null,
      "outputs": []
    },
    {
      "cell_type": "code",
      "metadata": {
        "id": "XBCtE--6YwL2"
      },
      "source": [
        "a[::3] #every third element, starting from first element"
      ],
      "execution_count": null,
      "outputs": []
    },
    {
      "cell_type": "code",
      "metadata": {
        "id": "J557OyovYwL6"
      },
      "source": [
        "a[2::3] #every third element, starting from third element (index position 2)"
      ],
      "execution_count": null,
      "outputs": []
    },
    {
      "cell_type": "code",
      "metadata": {
        "id": "NpPN8AfbYwL_"
      },
      "source": [
        "a[0] = 100 #ndarrays are mutable, changing first element to 100 \n",
        "a"
      ],
      "execution_count": null,
      "outputs": []
    },
    {
      "cell_type": "code",
      "metadata": {
        "id": "DgveFg0IYwMH"
      },
      "source": [
        "a[-1] = 101 #changing last element to 101\n",
        "a"
      ],
      "execution_count": null,
      "outputs": []
    },
    {
      "cell_type": "code",
      "metadata": {
        "id": "30WIMnh1YwMN"
      },
      "source": [
        "a[2:5] = 50 #in contrast to lists, ndarrays allow braodcasting, assigning one new value to multiple elements\n",
        "a"
      ],
      "execution_count": null,
      "outputs": []
    },
    {
      "cell_type": "code",
      "metadata": {
        "id": "jIQ7wGdzYwMc"
      },
      "source": [
        "a[2:5] = [50, 51, 52] #assigning multiple new values to multiple elements\n",
        "a"
      ],
      "execution_count": null,
      "outputs": []
    },
    {
      "cell_type": "code",
      "metadata": {
        "id": "9OlLq1JGYwMf"
      },
      "source": [
        "a = np.arange(1,11) #creating new ndarray a\n",
        "a"
      ],
      "execution_count": null,
      "outputs": []
    },
    {
      "cell_type": "code",
      "metadata": {
        "id": "L7cZ1xjiYwMi"
      },
      "source": [
        "b = a[2:8] # making a slice of ndarray a and assign new variable b, \n",
        "b\n",
        "#try b =a[2:8].copy() afterwords"
      ],
      "execution_count": null,
      "outputs": []
    },
    {
      "cell_type": "code",
      "metadata": {
        "id": "0ETBH-A8YwMl"
      },
      "source": [
        "b[0] = 100 #changing first element of ndarray b\n",
        "b"
      ],
      "execution_count": null,
      "outputs": []
    },
    {
      "cell_type": "code",
      "metadata": {
        "id": "odEHtcFeYwMq"
      },
      "source": [
        "a #respective element of ndarray a has changed as well!!! "
      ],
      "execution_count": null,
      "outputs": []
    },
    {
      "cell_type": "code",
      "metadata": {
        "id": "YceKaaY_YwMv"
      },
      "source": [
        "l = list(range(1,11)) #lists behave differently\n",
        "l"
      ],
      "execution_count": null,
      "outputs": []
    },
    {
      "cell_type": "code",
      "metadata": {
        "id": "P6XHeP2ZYwMy"
      },
      "source": [
        "m = l[2:8] #here a copy of the slice of l is created\n",
        "m"
      ],
      "execution_count": null,
      "outputs": []
    },
    {
      "cell_type": "code",
      "metadata": {
        "id": "-GctQRbLYwM1"
      },
      "source": [
        "m[0] = 100 #changing first element of slice m\n",
        "m"
      ],
      "execution_count": null,
      "outputs": []
    },
    {
      "cell_type": "code",
      "metadata": {
        "id": "PHY-_vLUYwM5"
      },
      "source": [
        "l #no effect on l !!!"
      ],
      "execution_count": null,
      "outputs": []
    },
    {
      "cell_type": "markdown",
      "metadata": {
        "collapsed": true,
        "id": "u5niHEnhYwM8"
      },
      "source": [
        "## 1.4 Numpy Array (Shape and multiple Dimensions)"
      ]
    },
    {
      "cell_type": "code",
      "metadata": {
        "id": "i2sfm4SGYwM9"
      },
      "source": [
        "import numpy as np"
      ],
      "execution_count": null,
      "outputs": []
    },
    {
      "cell_type": "code",
      "metadata": {
        "id": "ueMVm_6oYwNA"
      },
      "source": [
        "a = np.arange(1,13) #creating array from 1 to 12\n",
        "a"
      ],
      "execution_count": null,
      "outputs": []
    },
    {
      "cell_type": "code",
      "metadata": {
        "id": "UAN4WtLZYwND"
      },
      "source": [
        "type(a)"
      ],
      "execution_count": null,
      "outputs": []
    },
    {
      "cell_type": "code",
      "metadata": {
        "id": "8UGP1Oy-YwNG"
      },
      "source": [
        "a.dtype"
      ],
      "execution_count": null,
      "outputs": []
    },
    {
      "cell_type": "code",
      "metadata": {
        "id": "WQvtl3dSYwNL"
      },
      "source": [
        "a.shape #one-dimensional array, 12 elements in one dimension (vector)"
      ],
      "execution_count": null,
      "outputs": []
    },
    {
      "cell_type": "code",
      "metadata": {
        "id": "2eObsM8zYwNO"
      },
      "source": [
        "a = a.reshape(2,6) #reshaping a: 2 rows / 6 columns"
      ],
      "execution_count": null,
      "outputs": []
    },
    {
      "cell_type": "code",
      "metadata": {
        "id": "yFtI8lUlYwNY"
      },
      "source": [
        "a "
      ],
      "execution_count": null,
      "outputs": []
    },
    {
      "cell_type": "code",
      "metadata": {
        "id": "ZFE0DAKzYwNb"
      },
      "source": [
        "a.shape # two-dimensional array: 2 rows / 6 columns (matrix)"
      ],
      "execution_count": null,
      "outputs": []
    },
    {
      "cell_type": "code",
      "metadata": {
        "id": "PxS_mr6tYwNf"
      },
      "source": [
        "a = a.reshape(6,2) # two-dimensional array: 6 rows / 2 columns\n",
        "a"
      ],
      "execution_count": null,
      "outputs": []
    },
    {
      "cell_type": "code",
      "metadata": {
        "id": "AwXSIWjAYwNi"
      },
      "source": [
        "a.shape"
      ],
      "execution_count": null,
      "outputs": []
    },
    {
      "cell_type": "code",
      "metadata": {
        "id": "nQjNcBOuYwNo"
      },
      "source": [
        "a + 100 #element-wise operations still work"
      ],
      "execution_count": null,
      "outputs": []
    },
    {
      "cell_type": "code",
      "metadata": {
        "id": "12OAa91WYwNu"
      },
      "source": [
        "a = a.reshape(2,2,3) #creating a three-dimensional array\n",
        "a"
      ],
      "execution_count": null,
      "outputs": []
    },
    {
      "cell_type": "code",
      "metadata": {
        "id": "MXGxh3p-YwNy"
      },
      "source": [
        "a.shape "
      ],
      "execution_count": null,
      "outputs": []
    },
    {
      "cell_type": "code",
      "metadata": {
        "id": "iHCxzOArYwN4"
      },
      "source": [
        "b = np.arange(1,101).reshape(25,4) #creating 2-dim ndarray with one line of code\n",
        "b"
      ],
      "execution_count": null,
      "outputs": []
    },
    {
      "cell_type": "markdown",
      "metadata": {
        "id": "ttW5g_IyYwN7"
      },
      "source": [
        "## 1.5 Numpy Array (Indexing and Slicing multi-dimensional arrays)"
      ]
    },
    {
      "cell_type": "code",
      "metadata": {
        "id": "75zf7lefYwN8"
      },
      "source": [
        "import numpy as np"
      ],
      "execution_count": null,
      "outputs": []
    },
    {
      "cell_type": "code",
      "metadata": {
        "id": "djhT9sJ4YwN_"
      },
      "source": [
        "a = np.arange(1,13)\n",
        "a"
      ],
      "execution_count": null,
      "outputs": []
    },
    {
      "cell_type": "code",
      "metadata": {
        "id": "tD_at1PqYwOB"
      },
      "source": [
        "a = a.reshape(3,4) #creating matrix with 3 rows and 4 columns\n",
        "a"
      ],
      "execution_count": null,
      "outputs": []
    },
    {
      "cell_type": "code",
      "metadata": {
        "id": "U6d-042xYwOF"
      },
      "source": [
        "a[0] #first row (index position 0)"
      ],
      "execution_count": null,
      "outputs": []
    },
    {
      "cell_type": "code",
      "metadata": {
        "id": "ipr5rr43YwOO"
      },
      "source": [
        "a[1] #second row (index position 1)"
      ],
      "execution_count": null,
      "outputs": []
    },
    {
      "cell_type": "code",
      "metadata": {
        "id": "Qlqfy0MFYwOR"
      },
      "source": [
        "a[2] #third row (index position 2)"
      ],
      "execution_count": null,
      "outputs": []
    },
    {
      "cell_type": "code",
      "metadata": {
        "id": "5Hnn3RdfYwOb"
      },
      "source": [
        "a[-1] #last row (index position -1)"
      ],
      "execution_count": null,
      "outputs": []
    },
    {
      "cell_type": "code",
      "metadata": {
        "id": "46kky9YIYwOe"
      },
      "source": [
        "a[1][1] #second row, second column"
      ],
      "execution_count": null,
      "outputs": []
    },
    {
      "cell_type": "code",
      "metadata": {
        "id": "7nm3qV4qYwOi"
      },
      "source": [
        "a[1,1] #more convenient in one square bracket"
      ],
      "execution_count": null,
      "outputs": []
    },
    {
      "cell_type": "code",
      "metadata": {
        "id": "vGgA07CGYwOm"
      },
      "source": [
        "a[2,-1] #third row, last column"
      ],
      "execution_count": null,
      "outputs": []
    },
    {
      "cell_type": "code",
      "metadata": {
        "id": "yrQFFlqVYwOp"
      },
      "source": [
        "a[:,0] #all rows, first column"
      ],
      "execution_count": null,
      "outputs": []
    },
    {
      "cell_type": "code",
      "metadata": {
        "id": "OiZfcC9iYwOt"
      },
      "source": [
        "a[:,1] #all rows, second column"
      ],
      "execution_count": null,
      "outputs": []
    },
    {
      "cell_type": "code",
      "metadata": {
        "id": "1w5ZTntQYwOv"
      },
      "source": [
        "a[:,-1] #all rows, last column"
      ],
      "execution_count": null,
      "outputs": []
    },
    {
      "cell_type": "code",
      "metadata": {
        "id": "4Px6ruccYwOy"
      },
      "source": [
        "a[:2,1:3] #first two rows, column two and three"
      ],
      "execution_count": null,
      "outputs": []
    },
    {
      "cell_type": "code",
      "metadata": {
        "id": "A25kpYRcYwO1"
      },
      "source": [
        "a"
      ],
      "execution_count": null,
      "outputs": []
    },
    {
      "cell_type": "code",
      "metadata": {
        "id": "vmXFKFLWYwO4"
      },
      "source": [
        "a.T #Transpose: switching axes (attribute)"
      ],
      "execution_count": null,
      "outputs": []
    },
    {
      "cell_type": "code",
      "metadata": {
        "id": "e3GHIEYtYwO7"
      },
      "source": [
        "a.transpose() #same (method)"
      ],
      "execution_count": null,
      "outputs": []
    },
    {
      "cell_type": "code",
      "metadata": {
        "id": "Ij9eicgwYwO9"
      },
      "source": [
        "a"
      ],
      "execution_count": null,
      "outputs": []
    },
    {
      "cell_type": "code",
      "metadata": {
        "id": "9fwTZe2JYwPA"
      },
      "source": [
        "a[:,-1] = a[:,-1] /4 #changing slice inplace"
      ],
      "execution_count": null,
      "outputs": []
    },
    {
      "cell_type": "code",
      "metadata": {
        "id": "82OxQYGbYwPG"
      },
      "source": [
        "a"
      ],
      "execution_count": null,
      "outputs": []
    },
    {
      "cell_type": "code",
      "metadata": {
        "id": "STxhydkzYwPM"
      },
      "source": [
        "a = np.arange(1,13).reshape(3,4) #creating a 3x4 matrix\n",
        "a"
      ],
      "execution_count": null,
      "outputs": []
    },
    {
      "cell_type": "code",
      "metadata": {
        "id": "1bCm4E14YwPQ"
      },
      "source": [
        "a.sum() #sum over all elements in matrix"
      ],
      "execution_count": null,
      "outputs": []
    },
    {
      "cell_type": "code",
      "metadata": {
        "id": "IgU4jf3BYwPT"
      },
      "source": [
        "a.sum(axis = 0) #sum of each column"
      ],
      "execution_count": null,
      "outputs": []
    },
    {
      "cell_type": "code",
      "metadata": {
        "id": "hu4_DAdZYwPV"
      },
      "source": [
        "a.sum(axis = 1) #sum of each row"
      ],
      "execution_count": null,
      "outputs": []
    },
    {
      "cell_type": "code",
      "metadata": {
        "id": "aDWy90RbYwPY"
      },
      "source": [
        "a.cumsum() #cumulative sum of all elements"
      ],
      "execution_count": null,
      "outputs": []
    },
    {
      "cell_type": "code",
      "metadata": {
        "id": "JC0PJh8RYwPa"
      },
      "source": [
        "a.cumsum(axis = 0) #cumulative sum for each column"
      ],
      "execution_count": null,
      "outputs": []
    },
    {
      "cell_type": "code",
      "metadata": {
        "id": "OYGXbDUzYwPc"
      },
      "source": [
        "a.cumsum(axis = 1) #cumulative sum for each row"
      ],
      "execution_count": null,
      "outputs": []
    },
    {
      "cell_type": "code",
      "metadata": {
        "id": "L9Ff4Op3YwPf"
      },
      "source": [
        "a"
      ],
      "execution_count": null,
      "outputs": []
    },
    {
      "cell_type": "code",
      "metadata": {
        "id": "7nKJpJJCYwPh"
      },
      "source": [
        "a.prod() #product over all elements"
      ],
      "execution_count": null,
      "outputs": []
    },
    {
      "cell_type": "code",
      "metadata": {
        "id": "M3YRIjiUYwPk"
      },
      "source": [
        "a.prod(axis = 0) #product over all elements in each column"
      ],
      "execution_count": null,
      "outputs": []
    },
    {
      "cell_type": "code",
      "metadata": {
        "id": "iNbv-gLEYwPo"
      },
      "source": [
        "a.prod(axis = 1) #product over all elements in each row"
      ],
      "execution_count": null,
      "outputs": []
    }
  ]
}